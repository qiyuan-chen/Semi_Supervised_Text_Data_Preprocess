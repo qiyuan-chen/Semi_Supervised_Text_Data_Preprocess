{
 "cells": [],
 "metadata": {
  "kernelspec": {
   "display_name": "uda",
   "language": "python",
   "name": "python3"
  },
  "language_info": {
   "codemirror_mode": {
    "name": "ipython",
    "version": 3
   },
   "file_extension": ".py",
   "mimetype": "text/x-python",
   "name": "python",
   "nbconvert_exporter": "python",
   "pygments_lexer": "ipython3",
   "version": "3.8.15"
  },
  "orig_nbformat": 4,
  "vscode": {
   "interpreter": {
    "hash": "d30b002e3ddcdd098de7a2de4a04e895692ebd0d646cc8566b0faad4e0a37a17"
   }
  }
 },
 "nbformat": 4,
 "nbformat_minor": 2
}

{
 "cells": [
  {
   "cell_type": "code",
   "execution_count": 1,
   "metadata": {},
   "outputs": [
    {
     "name": "stderr",
     "output_type": "stream",
     "text": [
      "/home/chenqy/.conda/envs/uda/lib/python3.8/site-packages/tqdm/auto.py:22: TqdmWarning: IProgress not found. Please update jupyter and ipywidgets. See https://ipywidgets.readthedocs.io/en/stable/user_install.html\n",
      "  from .autonotebook import tqdm as notebook_tqdm\n"
     ]
    }
   ],
   "source": [
    "from semi_dataset import SemiDataset"
   ]
  },
  {
   "cell_type": "code",
   "execution_count": 2,
   "metadata": {},
   "outputs": [
    {
     "name": "stdout",
     "output_type": "stream",
     "text": [
      "/home/chenqy/Dataset/IMDB/train.csv\n",
      "Read original train dataset successful!\n",
      "ERROR! Read original dev dataset unsuccessful!\n",
      "/home/chenqy/Dataset/IMDB/test.csv\n",
      "Read original test dataset successful!\n"
     ]
    }
   ],
   "source": [
    "semi_data = SemiDataset(file_path=\"/home/chenqy/Dataset/IMDB\",num_sup=500,num_test=12500)\n"
   ]
  },
  {
   "cell_type": "code",
   "execution_count": 5,
   "metadata": {},
   "outputs": [
    {
     "name": "stdout",
     "output_type": "stream",
     "text": [
      "The sup dataset's length is: 1000\n"
     ]
    },
    {
     "ename": "TypeError",
     "evalue": "'list' object is not callable",
     "output_type": "error",
     "traceback": [
      "\u001b[0;31m---------------------------------------------------------------------------\u001b[0m",
      "\u001b[0;31mTypeError\u001b[0m                                 Traceback (most recent call last)",
      "Cell \u001b[0;32mIn [5], line 1\u001b[0m\n\u001b[0;32m----> 1\u001b[0m semi_data\u001b[39m.\u001b[39;49msample()\n\u001b[1;32m      2\u001b[0m data\u001b[39m=\u001b[39msemi_data\u001b[39m.\u001b[39mget_semi_dataset()\n",
      "File \u001b[0;32m~/Semi_Supervised_Text_Data_Preprocess/semi_dataset.py:154\u001b[0m, in \u001b[0;36mSemiDataset.sample\u001b[0;34m(self)\u001b[0m\n\u001b[1;32m    151\u001b[0m     \u001b[39mself\u001b[39m\u001b[39m.\u001b[39m__sup_dataset, \u001b[39mself\u001b[39m\u001b[39m.\u001b[39m__origin_train_dataset \u001b[39m=\u001b[39m \u001b[39mself\u001b[39m\u001b[39m.\u001b[39m_sample_target_dataset(\n\u001b[1;32m    152\u001b[0m         \u001b[39mself\u001b[39m\u001b[39m.\u001b[39m__origin_train_dataset, \u001b[39mself\u001b[39m\u001b[39m.\u001b[39m__num_sup, \u001b[39mtype\u001b[39m\u001b[39m=\u001b[39m\u001b[39m'\u001b[39m\u001b[39msup\u001b[39m\u001b[39m'\u001b[39m)  \u001b[39m# type:ignore\u001b[39;00m\n\u001b[1;32m    153\u001b[0m \u001b[39mif\u001b[39;00m \u001b[39mself\u001b[39m\u001b[39m.\u001b[39m__origin_test_dataset \u001b[39mis\u001b[39;00m \u001b[39mnot\u001b[39;00m \u001b[39mNone\u001b[39;00m \u001b[39mand\u001b[39;00m \u001b[39mself\u001b[39m\u001b[39m.\u001b[39m__num_test \u001b[39m!=\u001b[39m \u001b[39m0\u001b[39m:\n\u001b[0;32m--> 154\u001b[0m     \u001b[39mself\u001b[39m\u001b[39m.\u001b[39m__test_dataset, \u001b[39mself\u001b[39m\u001b[39m.\u001b[39m__origin_test_dataset \u001b[39m=\u001b[39m \u001b[39mself\u001b[39;49m\u001b[39m.\u001b[39;49m_sample_target_dataset(\n\u001b[1;32m    155\u001b[0m         \u001b[39mself\u001b[39;49m\u001b[39m.\u001b[39;49m__origin_test_dataset, \u001b[39mself\u001b[39;49m\u001b[39m.\u001b[39;49m__num_test, \u001b[39mtype\u001b[39;49m\u001b[39m=\u001b[39;49m\u001b[39m'\u001b[39;49m\u001b[39mtest\u001b[39;49m\u001b[39m'\u001b[39;49m)  \u001b[39m# type:ignore\u001b[39;00m\n\u001b[1;32m    157\u001b[0m \u001b[39mif\u001b[39;00m \u001b[39mself\u001b[39m\u001b[39m.\u001b[39m__origin_dev_dataset \u001b[39mis\u001b[39;00m \u001b[39mNone\u001b[39;00m \u001b[39mand\u001b[39;00m \u001b[39mself\u001b[39m\u001b[39m.\u001b[39m__num_dev \u001b[39m!=\u001b[39m \u001b[39m0\u001b[39m:\n\u001b[1;32m    158\u001b[0m     \u001b[39mself\u001b[39m\u001b[39m.\u001b[39m__dev_dataset, \u001b[39mself\u001b[39m\u001b[39m.\u001b[39m__origin_train_dataset \u001b[39m=\u001b[39m \u001b[39mself\u001b[39m\u001b[39m.\u001b[39m_sample_target_dataset(\n\u001b[1;32m    159\u001b[0m         \u001b[39mself\u001b[39m\u001b[39m.\u001b[39m__origin_train_dataset, \u001b[39mself\u001b[39m\u001b[39m.\u001b[39m__num_dev, \u001b[39mtype\u001b[39m\u001b[39m=\u001b[39m\u001b[39m'\u001b[39m\u001b[39mdev\u001b[39m\u001b[39m'\u001b[39m)  \u001b[39m# type:ignore\u001b[39;00m\n",
      "File \u001b[0;32m~/Semi_Supervised_Text_Data_Preprocess/semi_dataset.py:110\u001b[0m, in \u001b[0;36mSemiDataset._sample_target_dataset\u001b[0;34m(self, target_dataset, target_length, type)\u001b[0m\n\u001b[1;32m    108\u001b[0m \u001b[39mdef\u001b[39;00m \u001b[39m_sample_target_dataset\u001b[39m(\u001b[39mself\u001b[39m, target_dataset: pd\u001b[39m.\u001b[39mDataFrame, target_length, \u001b[39mtype\u001b[39m\u001b[39m=\u001b[39m\u001b[39m'\u001b[39m\u001b[39msup\u001b[39m\u001b[39m'\u001b[39m):\n\u001b[1;32m    109\u001b[0m     \u001b[39mif\u001b[39;00m \u001b[39mtype\u001b[39m \u001b[39m!=\u001b[39m \u001b[39m\"\u001b[39m\u001b[39munsup\u001b[39m\u001b[39m\"\u001b[39m:\n\u001b[0;32m--> 110\u001b[0m         return_dataset \u001b[39m=\u001b[39m pd\u001b[39m.\u001b[39;49mDataFrame(columns\u001b[39m=\u001b[39;49m[\u001b[39m\"\u001b[39;49m\u001b[39msentence\u001b[39;49m\u001b[39m\"\u001b[39;49m, \u001b[39m\"\u001b[39;49m\u001b[39mlabel\u001b[39;49m\u001b[39m\"\u001b[39;49m])\n\u001b[1;32m    111\u001b[0m         remain_dataset \u001b[39m=\u001b[39m pd\u001b[39m.\u001b[39mDataFrame(columns\u001b[39m=\u001b[39m[\u001b[39m\"\u001b[39m\u001b[39msentence\u001b[39m\u001b[39m\"\u001b[39m, \u001b[39m\"\u001b[39m\u001b[39mlabel\u001b[39m\u001b[39m\"\u001b[39m])\n\u001b[1;32m    112\u001b[0m         \u001b[39mfor\u001b[39;00m label \u001b[39min\u001b[39;00m target_dataset[\u001b[39m\"\u001b[39m\u001b[39mlabel\u001b[39m\u001b[39m\"\u001b[39m]\u001b[39m.\u001b[39munique():\n",
      "\u001b[0;31mTypeError\u001b[0m: 'list' object is not callable"
     ]
    }
   ],
   "source": [
    "semi_data.sample()\n",
    "data=semi_data.get_semi_dataset()"
   ]
  }
 ],
 "metadata": {
  "kernelspec": {
   "display_name": "Python 3.8.13 ('uda')",
   "language": "python",
   "name": "python3"
  },
  "language_info": {
   "codemirror_mode": {
    "name": "ipython",
    "version": 3
   },
   "file_extension": ".py",
   "mimetype": "text/x-python",
   "name": "python",
   "nbconvert_exporter": "python",
   "pygments_lexer": "ipython3",
   "version": "3.8.15"
  },
  "orig_nbformat": 4,
  "vscode": {
   "interpreter": {
    "hash": "d30b002e3ddcdd098de7a2de4a04e895692ebd0d646cc8566b0faad4e0a37a17"
   }
  }
 },
 "nbformat": 4,
 "nbformat_minor": 2
}
